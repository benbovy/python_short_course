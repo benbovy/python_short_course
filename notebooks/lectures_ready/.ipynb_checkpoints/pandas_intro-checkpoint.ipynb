{
 "cells": [
  {
   "cell_type": "markdown",
   "metadata": {},
   "source": [
    "# Brief Introduction to Pandas"
   ]
  },
  {
   "cell_type": "markdown",
   "metadata": {},
   "source": [
    "### Limitations of using numpy for tabular data\n",
    "\n",
    "We have seen how to use numpy to import tabular data stored in a CSV file"
   ]
  },
  {
   "cell_type": "code",
   "execution_count": 7,
   "metadata": {},
   "outputs": [
    {
     "data": {
      "text/plain": [
       "array([[ 200.,  240.],\n",
       "       [ 400.,  370.],\n",
       "       [ 600.,  630.]])"
      ]
     },
     "execution_count": 7,
     "metadata": {},
     "output_type": "execute_result"
    }
   ],
   "source": [
    "import numpy as np\n",
    "\n",
    "data = np.loadtxt('data.csv', delimiter=',', skiprows=2)\n",
    "\n",
    "data"
   ]
  },
  {
   "cell_type": "markdown",
   "metadata": {},
   "source": [
    "However, there are two limitations in using numpy for tabular data:\n",
    "\n",
    "- numpy arrays just stores the data, not the metadata (columns names, row index)\n",
    "- a numpy array has a single data type (e.g., integer, float), while tables may have columns of data with different types"
   ]
  },
  {
   "cell_type": "markdown",
   "metadata": {},
   "source": [
    "### Here comes Pandas\n",
    "\n",
    "- Pandas (http://pandas.pydata.org/) is a widely-used Python library to handle tabular data\n",
    "  - read from / write to different formats (CSV...)\n",
    "  - analytics, statistics, tansformations, plotting (on top of matplotlib).\n",
    "\n",
    "\n",
    "- Borrows many features from R’s dataframes.\n",
    "    - A 2-dimenstional table whose columns have names and potentially have different data types."
   ]
  },
  {
   "cell_type": "markdown",
   "metadata": {},
   "source": [
    "We first import the library"
   ]
  },
  {
   "cell_type": "code",
   "execution_count": 2,
   "metadata": {
    "collapsed": true
   },
   "outputs": [],
   "source": [
    "import pandas as pd"
   ]
  },
  {
   "cell_type": "markdown",
   "metadata": {},
   "source": [
    "## A real example\n",
    "\n",
    "First, look at the real dataset of land-surface temperature (region averages) that we will use in the project:\n",
    "\n",
    "http://berkeleyearth.org/data/\n",
    "\n",
    "http://berkeleyearth.lbl.gov/auto/Regional/TAVG/Text/\n",
    "\n",
    "This is a good example of real dataset used in science: text format, good documentation, human readable but a bit harder to deal with progammatically (e.g., column names as comments instead of strict CSV)."
   ]
  },
  {
   "cell_type": "markdown",
   "metadata": {},
   "source": [
    "Start by importing the packages that we will need for the project."
   ]
  },
  {
   "cell_type": "code",
   "execution_count": 1,
   "metadata": {
    "collapsed": true
   },
   "outputs": [],
   "source": [
    "import numpy as np\n",
    "import pandas as pd\n",
    "import matplotlib.pyplot as plt\n",
    "\n",
    "%matplotlib inline"
   ]
  },
  {
   "cell_type": "markdown",
   "metadata": {},
   "source": [
    "Load the data (a single region/file ; we won't use all the columns available). Note that we can provide an URL to `pandas.read_csv` !"
   ]
  },
  {
   "cell_type": "code",
   "execution_count": 9,
   "metadata": {
    "collapsed": true
   },
   "outputs": [],
   "source": [
    "df = pd.read_csv(\n",
    "    \"http://berkeleyearth.lbl.gov/auto/Regional/TAVG/Text/united-states-TAVG-Trend.txt\",\n",
    "    delim_whitespace=True,\n",
    "    comment='%',\n",
    "    header=None,\n",
    "    parse_dates=[[0,1]],\n",
    "    index_col=(0),\n",
    "    usecols=(0, 1, 2, 3, 8, 9),\n",
    "    names=(\"year\", \"month\", \"anomaly\", \"uncertainty\", \"10-year-anomaly\", \"10-year-uncertainty\")\n",
    ")\n",
    "\n",
    "df.index.name = \"date\""
   ]
  },
  {
   "cell_type": "markdown",
   "metadata": {},
   "source": [
    "## First exercice: data inspection, basic statistics and plotting\n",
    "\n",
    "Objectives:\n",
    "\n",
    "1. show the head and a sample of the data\n",
    "2. plot the data\n",
    "    * plot 'anomaly', playing around with `linewidth` and opacity (`alpha`)\n",
    "    * plot '10-year-anomaly'\n",
    "    * plot '10-year-uncertainty' around it (`plt.fill_between`)\n",
    "    * try adjusting the size of the figure\n",
    "* statistics of 'anomaly'\n",
    "    * print descriptive statistics, print the mean of each column\n",
    "    * plot distribution of 'anomaly' using `hist`, playing around with `bins`\n",
    "    * plot distribution of 'anomaly' separated by years but in one plot\n",
    "        1. 1850-1900\n",
    "        2. 1950-2000\n",
    "\n",
    "### Solution"
   ]
  },
  {
   "cell_type": "code",
   "execution_count": null,
   "metadata": {},
   "outputs": [],
   "source": []
  },
  {
   "cell_type": "code",
   "execution_count": null,
   "metadata": {},
   "outputs": [],
   "source": []
  },
  {
   "cell_type": "code",
   "execution_count": null,
   "metadata": {},
   "outputs": [],
   "source": []
  },
  {
   "cell_type": "code",
   "execution_count": null,
   "metadata": {},
   "outputs": [],
   "source": []
  },
  {
   "cell_type": "code",
   "execution_count": null,
   "metadata": {},
   "outputs": [],
   "source": []
  },
  {
   "cell_type": "code",
   "execution_count": null,
   "metadata": {},
   "outputs": [],
   "source": []
  },
  {
   "cell_type": "code",
   "execution_count": null,
   "metadata": {},
   "outputs": [],
   "source": []
  },
  {
   "cell_type": "markdown",
   "metadata": {},
   "source": [
    "## Second exercise: more advanced pandas analytics features \n",
    "\n",
    "Try re-calculating the 10-year anomaly from the anomaly (rolling mean) using pandas. Assign the results to a new column '10-year-anomaly-pandas' in the dataframe. Compare in a plot these results with the '10-year-anomaly' column.\n",
    "\n",
    "Tip: look at `rolling` and `mean` in the pandas documentation.\n",
    "\n",
    "### Solution"
   ]
  },
  {
   "cell_type": "code",
   "execution_count": null,
   "metadata": {
    "collapsed": true
   },
   "outputs": [],
   "source": []
  },
  {
   "cell_type": "code",
   "execution_count": null,
   "metadata": {
    "scrolled": false
   },
   "outputs": [],
   "source": []
  },
  {
   "cell_type": "code",
   "execution_count": null,
   "metadata": {
    "collapsed": true
   },
   "outputs": [],
   "source": []
  },
  {
   "cell_type": "markdown",
   "metadata": {},
   "source": [
    "## Reuse the code for other data (countries)\n",
    "\n",
    "create a function that take a country name as input."
   ]
  },
  {
   "cell_type": "code",
   "execution_count": null,
   "metadata": {},
   "outputs": [],
   "source": []
  }
 ],
 "metadata": {
  "anaconda-cloud": {},
  "kernelspec": {
   "display_name": "Python [conda env:fastscape_py36]",
   "language": "python",
   "name": "conda-env-fastscape_py36-py"
  },
  "language_info": {
   "codemirror_mode": {
    "name": "ipython",
    "version": 3
   },
   "file_extension": ".py",
   "mimetype": "text/x-python",
   "name": "python",
   "nbconvert_exporter": "python",
   "pygments_lexer": "ipython3",
   "version": "3.6.4"
  }
 },
 "nbformat": 4,
 "nbformat_minor": 2
}
