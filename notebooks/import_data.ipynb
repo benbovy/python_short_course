{
 "cells": [
  {
   "cell_type": "markdown",
   "metadata": {},
   "source": [
    "# Import data\n",
    "\n",
    "- Tabular data (columns):  [pandas](http://pandas.pydata.org/), see [io functions](http://pandas.pydata.org/pandas-docs/stable/io.html)\n",
    "  - CSV-like (text files) \n",
    "  - Excel\n",
    "  - SQL database (sqlite, mysql, etc.)\n",
    "  - HTML tables\n",
    "  - ...\n",
    "- Images\n",
    "  - png, jpg, tiff, etc.: [scikit-image](http://scikit-image.org/), see [io module](http://scikit-image.org/docs/stable/api/skimage.io.html) (alternative [imageio](https://imageio.readthedocs.io/en/latest/), used by scikit-image) \n",
    "- Geospatial data\n",
    "  - vector: [fiona](https://github.com/Toblerity/Fiona)\n",
    "  - raster: [rasterio](https://mapbox.github.io/rasterio/)\n",
    "  - geojson: [geopandas](http://geopandas.org/)\n",
    "  - .. or use GIS software (ArcGIS, QGIS, GRASS all support Python scripting).\n",
    "  - Note: all are based on the GDAL (OGR) library, which has a Python interface but rather low-level: \n",
    "- Array data:\n",
    "  - hdf5: [h5py](http://www.h5py.org/)\n",
    "  - netcdf: [xarray](http://xarray.pydata.org/en/stable/), see [io conversion](http://xarray.pydata.org/en/stable/api.html#io-conversion)\n",
    "    - see also [netcdf4-python](http://unidata.github.io/netcdf4-python/) for netcdf4 and [scipy.io.netcdf](https://docs.scipy.org/doc/scipy-0.16.1/reference/generated/scipy.io.netcdf.netcdf_file.html) for netcdf3 \n",
    "  - matlab files: [scipy.io](https://docs.scipy.org/doc/scipy-0.16.1/reference/io.html)\n",
    "  - unformatted Fortran files: [scipy.io](https://docs.scipy.org/doc/scipy-0.16.1/reference/io.html)\n",
    "  - Text files (~ standard format): [numpy io functions](https://docs.scipy.org/doc/numpy/user/basics.io.html)\n",
    "  - Text files (home made, exotic format): [numpy io functions](https://docs.scipy.org/doc/numpy/user/basics.io.html), or you'll probably need to write your own routines in Python (using, e.g., regular expressions).\n",
    "- Web pages / web APIs:\n",
    "  - send requests, receive responses: [requests](http://docs.python-requests.org/en/master/)\n",
    "  - json: [json module](https://docs.python.org/3/library/json.html) in the python standard library\n",
    "  - xml: [lxml](http://lxml.de/)\n",
    "  - html: [BeautifulSoup](https://www.crummy.com/software/BeautifulSoup/bs4/doc/) (not sure if it is well maintained), or try using pandas for simple HTML tables.\n",
    "  - geojson: see above"
   ]
  },
  {
   "cell_type": "markdown",
   "metadata": {},
   "source": [
    "You should be able to install most (if not all) of the packages above using conda.\n",
    "\n",
    "Note: by default, conda search for packages in a `default` channels, but packages may be missing or are not up-to-date. Alternatively, there is a another channel: [https://conda-forge.org/](https://conda-forge.org/), which is maintained by the community. To install a package from the conda-forge channel, use the following command \n",
    "\n",
    "```\n",
    "$ conda install <package-name> -c conda-forge\n",
    "```\n",
    "\n",
    "The `-c conda-forge` is the option for using the conda-forge channel\n"
   ]
  },
  {
   "cell_type": "code",
   "execution_count": null,
   "metadata": {
    "collapsed": true
   },
   "outputs": [],
   "source": []
  }
 ],
 "metadata": {
  "kernelspec": {
   "display_name": "Python 3",
   "language": "python",
   "name": "python3"
  },
  "language_info": {
   "codemirror_mode": {
    "name": "ipython",
    "version": 3
   },
   "file_extension": ".py",
   "mimetype": "text/x-python",
   "name": "python",
   "nbconvert_exporter": "python",
   "pygments_lexer": "ipython3",
   "version": "3.6.3"
  }
 },
 "nbformat": 4,
 "nbformat_minor": 2
}
