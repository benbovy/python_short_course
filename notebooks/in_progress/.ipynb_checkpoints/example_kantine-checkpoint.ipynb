{
 "cells": [
  {
   "cell_type": "code",
   "execution_count": 19,
   "metadata": {},
   "outputs": [
    {
     "name": "stdout",
     "output_type": "stream",
     "text": [
      "Kartoffeln for lunch tomorrow!!\n"
     ]
    }
   ],
   "source": [
    "import requests\n",
    "\n",
    "url = \"http://kantine.telegrafenberg.de/speiseplan/speiseplan.php\"\n",
    "\n",
    "page = requests.get(url, params={'date': 'tomorrow'})\n",
    "\n",
    "if 'potatoes' in page.text.lower():\n",
    "    print(\"Kartoffeln for lunch tomorrow!!\")\n",
    "else:\n",
    "    print(\"Reminder: cook potatoes for tomorrow\")\n"
   ]
  },
  {
   "cell_type": "code",
   "execution_count": null,
   "metadata": {},
   "outputs": [],
   "source": []
  }
 ],
 "metadata": {
  "kernelspec": {
   "display_name": "Python [conda env:fastscape_py36]",
   "language": "python",
   "name": "conda-env-fastscape_py36-py"
  },
  "language_info": {
   "codemirror_mode": {
    "name": "ipython",
    "version": 3
   },
   "file_extension": ".py",
   "mimetype": "text/x-python",
   "name": "python",
   "nbconvert_exporter": "python",
   "pygments_lexer": "ipython3",
   "version": "3.6.2"
  }
 },
 "nbformat": 4,
 "nbformat_minor": 2
}
