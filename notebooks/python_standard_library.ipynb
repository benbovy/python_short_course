{
 "cells": [
  {
   "cell_type": "markdown",
   "metadata": {},
   "source": [
    "# The Python Standard Library (a brief tour)\n",
    "\n",
    "Python (CPython) comes with batteries included! There are many available modules for doing a lot of various tasks (web, text handling, file management, cryptography, etc.). You don't need to install extra packages (and worry about their version).\n",
    "\n",
    "Some of the modules that are useful for scientific pruposes:\n",
    "\n",
    "- `math`, `statistics`, `random`: for computations on native Python types (int, float, complex...), although we more often use Numpy for that (more on Numpy later).\n",
    "- `os.path`, `pathlib`, `glob`: platform-independent manipulation of filenames\n",
    "- `shutil`: file operations (copy, delete, move...)\n",
    "- `datetime`: work with dates and times\n",
    "- `subprocess`: call external processes from within Python\n",
    "- `urllib.request`: download and parse content on the websites (although the external but popular [requests](http://docs.python-requests.org/en/master/) library is much easier to use.\n",
    "- `json`, `xml`: read/write data in those formats (most used for transferring data through internet), although you may find [lxml](http://lxml.de/) better for XML.\n",
    "- `re`: regular-expressions, really powerful if you have to read data in a very home-made format (e.g., outputs of legacy Fortran codes?), but also not very easy to use.\n",
    "\n",
    "For a brief introduction to the standard library, see [here](https://docs.python.org/3/tutorial/stdlib.html).\n",
    "\n",
    "For a complete list of modules of the standard library and tutorials, see this wondeful website [Python 3 module of the week](https://pymotw.com/3/) (The original website for Python 2 is still running I think, but Python 2 it is depreciated)."
   ]
  },
  {
   "cell_type": "code",
   "execution_count": 1,
   "metadata": {},
   "outputs": [],
   "source": [
    "import math"
   ]
  },
  {
   "cell_type": "code",
   "execution_count": null,
   "metadata": {},
   "outputs": [],
   "source": [
    "math."
   ]
  },
  {
   "cell_type": "code",
   "execution_count": 5,
   "metadata": {},
   "outputs": [],
   "source": [
    "import glob\n",
    "import os"
   ]
  },
  {
   "cell_type": "code",
   "execution_count": 7,
   "metadata": {},
   "outputs": [
    {
     "name": "stdout",
     "output_type": "stream",
     "text": [
      "/Users/bbovy/Projects/python_short_course/notebooks/numpy_intro_part1.ipynb\n",
      "/Users/bbovy/Projects/python_short_course/notebooks/python_intro.ipynb\n",
      "/Users/bbovy/Projects/python_short_course/notebooks/python_standard_library.ipynb\n"
     ]
    }
   ],
   "source": [
    "for filename in glob.glob(\"*.ipynb\"):\n",
    "    print(os.path.abspath(filename))"
   ]
  },
  {
   "cell_type": "code",
   "execution_count": null,
   "metadata": {},
   "outputs": [],
   "source": []
  }
 ],
 "metadata": {
  "kernelspec": {
   "display_name": "Python [default]",
   "language": "python",
   "name": "python3"
  },
  "language_info": {
   "codemirror_mode": {
    "name": "ipython",
    "version": 3
   },
   "file_extension": ".py",
   "mimetype": "text/x-python",
   "name": "python",
   "nbconvert_exporter": "python",
   "pygments_lexer": "ipython3",
   "version": "3.6.4"
  }
 },
 "nbformat": 4,
 "nbformat_minor": 2
}
